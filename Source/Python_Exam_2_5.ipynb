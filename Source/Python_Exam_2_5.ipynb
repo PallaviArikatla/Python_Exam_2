{
 "cells": [
  {
   "cell_type": "code",
   "execution_count": 1,
   "metadata": {},
   "outputs": [],
   "source": [
    "from keras.datasets import cifar10\n",
    "from keras.layers import Input, Dense,Conv2D,MaxPooling2D,UpSampling2D,BatchNormalization\n",
    "from keras.models import Model,Sequential\n",
    "import numpy as np\n",
    "import pandas as pd\n",
    "import matplotlib.pyplot as plt"
   ]
  },
  {
   "cell_type": "code",
   "execution_count": 2,
   "metadata": {},
   "outputs": [
    {
     "name": "stdout",
     "output_type": "stream",
     "text": [
      "(50000, 32, 32, 3)\n",
      "(10000, 32, 32, 3)\n"
     ]
    }
   ],
   "source": [
    "(X_train, _), (X_test, _) = cifar10.load_data()\n",
    "X_train = X_train.astype('float32')/255\n",
    "X_test = X_test.astype('float32')/255\n",
    "X_train = X_train.reshape(len(X_train),X_train.shape[1],X_train.shape[2],3)\n",
    "X_test = X_test.reshape(len(X_test), X_test.shape[1],X_test.shape[2],3)\n",
    "print(X_train.shape)\n",
    "print(X_test.shape)"
   ]
  },
  {
   "cell_type": "code",
   "execution_count": 3,
   "metadata": {},
   "outputs": [],
   "source": [
    "input_img = Input(shape=(32,32,3))\n",
    "\n",
    "#Encoder\n",
    "x = Conv2D(16,(3,3), activation='relu', padding='same')(input_img)\n",
    "\n",
    "\n",
    "x = Conv2D(8,(3,3), activation='relu', padding='same')(x)\n",
    "\n",
    "\n",
    "x = Conv2D(8,(3,3), activation='relu', padding='same')(x)\n",
    "encoded = MaxPooling2D((2,2), padding='same', name='encoder')(x)\n",
    "\n",
    "#Decoder\n",
    "y = Conv2D(8, (3, 3), activation='relu', padding='same')(encoded)\n",
    "\n",
    "\n",
    "y = Conv2D(8, (3, 3), activation='relu', padding='same')(x)\n",
    "\n",
    "\n",
    "y = Conv2D(16, (3, 3), activation='relu',padding='same')(x)\n",
    "\n",
    "\n",
    "decoded = Conv2D(3, (3, 3), activation='sigmoid', padding='same')(y)\n",
    "\n",
    "autoencoder = Model(input_img, decoded)\n",
    "autoencoder.compile(optimizer='adam', loss='mse',metrics=['accuracy'])"
   ]
  },
  {
   "cell_type": "code",
   "execution_count": 4,
   "metadata": {},
   "outputs": [
    {
     "name": "stdout",
     "output_type": "stream",
     "text": [
      "Model: \"model\"\n",
      "_________________________________________________________________\n",
      "Layer (type)                 Output Shape              Param #   \n",
      "=================================================================\n",
      "input_1 (InputLayer)         [(None, 32, 32, 3)]       0         \n",
      "_________________________________________________________________\n",
      "conv2d (Conv2D)              (None, 32, 32, 16)        448       \n",
      "_________________________________________________________________\n",
      "conv2d_1 (Conv2D)            (None, 32, 32, 8)         1160      \n",
      "_________________________________________________________________\n",
      "conv2d_2 (Conv2D)            (None, 32, 32, 8)         584       \n",
      "_________________________________________________________________\n",
      "conv2d_5 (Conv2D)            (None, 32, 32, 16)        1168      \n",
      "_________________________________________________________________\n",
      "conv2d_6 (Conv2D)            (None, 32, 32, 3)         435       \n",
      "=================================================================\n",
      "Total params: 3,795\n",
      "Trainable params: 3,795\n",
      "Non-trainable params: 0\n",
      "_________________________________________________________________\n"
     ]
    }
   ],
   "source": [
    "# autoencoder=Model(input_img, decoded)\n",
    "autoencoder.summary()"
   ]
  },
  {
   "cell_type": "code",
   "execution_count": 5,
   "metadata": {},
   "outputs": [
    {
     "name": "stdout",
     "output_type": "stream",
     "text": [
      "Epoch 1/5\n",
      "196/196 [==============================] - 135s 690ms/step - loss: 0.0141 - accuracy: 0.5431 - val_loss: 0.0040 - val_accuracy: 0.6739\n",
      "Epoch 2/5\n",
      "196/196 [==============================] - 123s 626ms/step - loss: 0.0030 - accuracy: 0.7268 - val_loss: 0.0021 - val_accuracy: 0.7787\n",
      "Epoch 3/5\n",
      "196/196 [==============================] - 124s 631ms/step - loss: 0.0016 - accuracy: 0.7955 - val_loss: 0.0013 - val_accuracy: 0.8126\n",
      "Epoch 4/5\n",
      "196/196 [==============================] - 121s 617ms/step - loss: 0.0012 - accuracy: 0.8113 - val_loss: 0.0010 - val_accuracy: 0.8187\n",
      "Epoch 5/5\n",
      "196/196 [==============================] - 128s 652ms/step - loss: 0.0011 - accuracy: 0.8191 - val_loss: 9.9233e-04 - val_accuracy: 0.8229\n"
     ]
    }
   ],
   "source": [
    "history = autoencoder.fit(X_train, X_train,\n",
    "                epochs=5,\n",
    "                batch_size=256,\n",
    "                shuffle=True,\n",
    "                validation_data=(X_test, X_test))"
   ]
  }
 ],
 "metadata": {
  "kernelspec": {
   "display_name": "Python 3",
   "language": "python",
   "name": "python3"
  },
  "language_info": {
   "codemirror_mode": {
    "name": "ipython",
    "version": 3
   },
   "file_extension": ".py",
   "mimetype": "text/x-python",
   "name": "python",
   "nbconvert_exporter": "python",
   "pygments_lexer": "ipython3",
   "version": "3.7.6"
  }
 },
 "nbformat": 4,
 "nbformat_minor": 4
}
